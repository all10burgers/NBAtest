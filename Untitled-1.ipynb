{
 "cells": [
  {
   "cell_type": "code",
   "execution_count": null,
   "metadata": {},
   "outputs": [],
   "source": [
    "import re\n",
    "import requests\n",
    "import time\n",
    "import pandas as pd\n",
    "from bs4 import BeautifulSoup\n"
   ]
  },
  {
   "cell_type": "code",
   "execution_count": null,
   "metadata": {},
   "outputs": [],
   "source": [
    "months = ['october', 'november', 'december', 'january', 'february', 'march', 'april']\n",
    "base_url = \"https://www.basketball-reference.com/leagues/NBA_2024_games-\"\n",
    "urls = [f\"{base_url}{month}.html\" for month in months]\n",
    "\n",
    "def scrape_monthly(url):\n",
    "    response = requests.get(url)\n",
    "    time.sleep(10)\n",
    "    soup = BeautifulSoup(response.content, 'html.parser')\n",
    "\n",
    "    tables = soup.find_all('table', {'id': 'schedule'})\n",
    "\n",
    "    data = []\n",
    "    for table in tables:\n",
    "        for row in table.find_all('tr')[1:]:\n",
    "            cols = row.find_all(['th', 'td'])\n",
    "            cols = [col.text.strip() for col in cols]\n",
    "            data.append(cols)\n",
    "\n",
    "    return data\n",
    "\n"
   ]
  },
  {
   "cell_type": "code",
   "execution_count": null,
   "metadata": {},
   "outputs": [],
   "source": [
    "all_data = []\n",
    "for url in urls:\n",
    "    monthly_data = scrape_monthly(url)\n",
    "    all_data.extend(monthly_data)\n",
    "\n",
    "columns = ['Date', 'Start', 'Visitor', 'VisitorPTS', 'Home', 'HomePTS', 'BoxScore' , 'OT', 'Attendance', 'Arena' , 'Notes']\n",
    "df = pd.DataFrame(all_data, columns=columns)\n",
    "#df.head()\n",
    "#fixed_df = df.drop(df['Attendance'], df['Arena'], df['Notes'])\n",
    "#fixed_df.head()\n"
   ]
  },
  {
   "cell_type": "code",
   "execution_count": null,
   "metadata": {},
   "outputs": [],
   "source": [
    "import tensorflow as tf\n"
   ]
  },
  {
   "cell_type": "code",
   "execution_count": null,
   "metadata": {},
   "outputs": [],
   "source": [
    "dd = df.to_csv('test_3.csv', index=False)"
   ]
  }
 ],
 "metadata": {
  "kernelspec": {
   "display_name": "Python 3 (ipykernel)",
   "language": "python",
   "name": "python3"
  },
  "language_info": {
   "codemirror_mode": {
    "name": "ipython",
    "version": 3
   },
   "file_extension": ".py",
   "mimetype": "text/x-python",
   "name": "python",
   "nbconvert_exporter": "python",
   "pygments_lexer": "ipython3",
   "version": "3.9.13"
  },
  "orig_nbformat": 4,
  "vscode": {
   "interpreter": {
    "hash": "aee8b7b246df8f9039afb4144a1f6fd8d2ca17a180786b69acc140d282b71a49"
   }
  }
 },
 "nbformat": 4,
 "nbformat_minor": 2
}
