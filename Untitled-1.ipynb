{
 "cells": [
  {
   "cell_type": "code",
   "execution_count": 16,
   "metadata": {},
   "outputs": [],
   "source": [
    "import re\n",
    "import requests\n",
    "import time\n",
    "import pandas as pd\n",
    "from bs4 import BeautifulSoup\n"
   ]
  },
  {
   "cell_type": "code",
   "execution_count": 17,
   "metadata": {},
   "outputs": [],
   "source": [
    "\n",
    "months = ['january', 'february', 'march', 'april', 'may', 'june', 'july', 'august', 'september', 'october', 'november', 'december']\n",
    "\n",
    "def scrape_year_data(year):\n",
    "\n",
    "    base_url = f\"https://www.basketball-reference.com/leagues/NBA_{year}_games\"\n",
    "\n",
    "    raw_data = []\n",
    "    for month in months:\n",
    "        month_url = f\"{base_url}-{month}.html\"\n",
    "        print(month_url)\n",
    "        time.sleep(10)\n",
    "        response = requests.get(month_url, headers={'User-Agent': 'Mozilla/5.0'})\n",
    "        if response.status_code == 200:\n",
    "            soup = BeautifulSoup(response.content, 'html.parser')\n",
    "            table = soup.find('table', {'id':'div_schedul0'})\n",
    "\n",
    "            if table:\n",
    "                data = []\n",
    "                rows = table.find_all('tr')[1:]\n",
    "                for row in rows:\n",
    "                    columns = row.find_all(['th', 'td'])\n",
    "                    data.append([col.get_text(strip=True) for col in columns])\n",
    "\n",
    "                raw_data.extend(data)\n",
    "\n",
    "            else:\n",
    "                print(f\"table not found for month\")\n",
    "\n",
    "        else:\n",
    "            print(f\"failed to fetch webpage\")\n",
    "        \n",
    "    headers = [th.get_text(strip=True) for th in soup.find('tr').find_all('th')]\n",
    "    df = pd.DataFrame(raw_data, columns=headers)\n",
    "\n",
    "    return df\n",
    "\n"
   ]
  },
  {
   "cell_type": "code",
   "execution_count": 18,
   "metadata": {},
   "outputs": [
    {
     "name": "stdout",
     "output_type": "stream",
     "text": [
      "https://www.basketball-reference.com/leagues/NBA_2018_games-january.html\n",
      "failed to fetch webpage\n",
      "https://www.basketball-reference.com/leagues/NBA_2018_games-february.html\n",
      "failed to fetch webpage\n",
      "https://www.basketball-reference.com/leagues/NBA_2018_games-march.html\n",
      "failed to fetch webpage\n",
      "https://www.basketball-reference.com/leagues/NBA_2018_games-april.html\n",
      "failed to fetch webpage\n",
      "https://www.basketball-reference.com/leagues/NBA_2018_games-may.html\n",
      "failed to fetch webpage\n",
      "https://www.basketball-reference.com/leagues/NBA_2018_games-june.html\n",
      "failed to fetch webpage\n",
      "https://www.basketball-reference.com/leagues/NBA_2018_games-july.html\n",
      "failed to fetch webpage\n",
      "https://www.basketball-reference.com/leagues/NBA_2018_games-august.html\n",
      "failed to fetch webpage\n",
      "https://www.basketball-reference.com/leagues/NBA_2018_games-september.html\n",
      "failed to fetch webpage\n",
      "https://www.basketball-reference.com/leagues/NBA_2018_games-october.html\n",
      "failed to fetch webpage\n",
      "https://www.basketball-reference.com/leagues/NBA_2018_games-november.html\n",
      "failed to fetch webpage\n",
      "https://www.basketball-reference.com/leagues/NBA_2018_games-december.html\n",
      "failed to fetch webpage\n"
     ]
    },
    {
     "ename": "UnboundLocalError",
     "evalue": "local variable 'soup' referenced before assignment",
     "output_type": "error",
     "traceback": [
      "\u001b[0;31m---------------------------------------------------------------------------\u001b[0m",
      "\u001b[0;31mUnboundLocalError\u001b[0m                         Traceback (most recent call last)",
      "\u001b[0;32m/var/folders/l2/ypzl1wvs7pxcc5r5vsx4sswm0000gn/T/ipykernel_66427/4232357053.py\u001b[0m in \u001b[0;36m<module>\u001b[0;34m\u001b[0m\n\u001b[1;32m      1\u001b[0m \u001b[0myear_to_scrape\u001b[0m \u001b[0;34m=\u001b[0m \u001b[0;36m2018\u001b[0m\u001b[0;34m\u001b[0m\u001b[0;34m\u001b[0m\u001b[0m\n\u001b[0;32m----> 2\u001b[0;31m \u001b[0mschedule_df\u001b[0m \u001b[0;34m=\u001b[0m \u001b[0mscrape_year_data\u001b[0m\u001b[0;34m(\u001b[0m\u001b[0myear_to_scrape\u001b[0m\u001b[0;34m)\u001b[0m\u001b[0;34m\u001b[0m\u001b[0;34m\u001b[0m\u001b[0m\n\u001b[0m\u001b[1;32m      3\u001b[0m \u001b[0mprint\u001b[0m\u001b[0;34m(\u001b[0m\u001b[0mschedule_df\u001b[0m\u001b[0;34m)\u001b[0m\u001b[0;34m\u001b[0m\u001b[0;34m\u001b[0m\u001b[0m\n",
      "\u001b[0;32m/var/folders/l2/ypzl1wvs7pxcc5r5vsx4sswm0000gn/T/ipykernel_66427/2106990086.py\u001b[0m in \u001b[0;36mscrape_year_data\u001b[0;34m(year)\u001b[0m\n\u001b[1;32m     30\u001b[0m             \u001b[0mprint\u001b[0m\u001b[0;34m(\u001b[0m\u001b[0;34mf\"failed to fetch webpage\"\u001b[0m\u001b[0;34m)\u001b[0m\u001b[0;34m\u001b[0m\u001b[0;34m\u001b[0m\u001b[0m\n\u001b[1;32m     31\u001b[0m \u001b[0;34m\u001b[0m\u001b[0m\n\u001b[0;32m---> 32\u001b[0;31m     \u001b[0mheaders\u001b[0m \u001b[0;34m=\u001b[0m \u001b[0;34m[\u001b[0m\u001b[0mth\u001b[0m\u001b[0;34m.\u001b[0m\u001b[0mget_text\u001b[0m\u001b[0;34m(\u001b[0m\u001b[0mstrip\u001b[0m\u001b[0;34m=\u001b[0m\u001b[0;32mTrue\u001b[0m\u001b[0;34m)\u001b[0m \u001b[0;32mfor\u001b[0m \u001b[0mth\u001b[0m \u001b[0;32min\u001b[0m \u001b[0msoup\u001b[0m\u001b[0;34m.\u001b[0m\u001b[0mfind\u001b[0m\u001b[0;34m(\u001b[0m\u001b[0;34m'tr'\u001b[0m\u001b[0;34m)\u001b[0m\u001b[0;34m.\u001b[0m\u001b[0mfind_all\u001b[0m\u001b[0;34m(\u001b[0m\u001b[0;34m'th'\u001b[0m\u001b[0;34m)\u001b[0m\u001b[0;34m]\u001b[0m\u001b[0;34m\u001b[0m\u001b[0;34m\u001b[0m\u001b[0m\n\u001b[0m\u001b[1;32m     33\u001b[0m     \u001b[0mdf\u001b[0m \u001b[0;34m=\u001b[0m \u001b[0mpd\u001b[0m\u001b[0;34m.\u001b[0m\u001b[0mDataFrame\u001b[0m\u001b[0;34m(\u001b[0m\u001b[0mraw_data\u001b[0m\u001b[0;34m,\u001b[0m \u001b[0mcolumns\u001b[0m\u001b[0;34m=\u001b[0m\u001b[0mheaders\u001b[0m\u001b[0;34m)\u001b[0m\u001b[0;34m\u001b[0m\u001b[0;34m\u001b[0m\u001b[0m\n\u001b[1;32m     34\u001b[0m \u001b[0;34m\u001b[0m\u001b[0m\n",
      "\u001b[0;31mUnboundLocalError\u001b[0m: local variable 'soup' referenced before assignment"
     ]
    }
   ],
   "source": [
    "year_to_scrape = 2018\n",
    "schedule_df = scrape_year_data(year_to_scrape)\n",
    "print(schedule_df)"
   ]
  },
  {
   "cell_type": "code",
   "execution_count": null,
   "metadata": {},
   "outputs": [],
   "source": []
  }
 ],
 "metadata": {
  "kernelspec": {
   "display_name": "Python 3 (ipykernel)",
   "language": "python",
   "name": "python3"
  },
  "language_info": {
   "codemirror_mode": {
    "name": "ipython",
    "version": 3
   },
   "file_extension": ".py",
   "mimetype": "text/x-python",
   "name": "python",
   "nbconvert_exporter": "python",
   "pygments_lexer": "ipython3",
   "version": "3.9.13"
  },
  "orig_nbformat": 4,
  "vscode": {
   "interpreter": {
    "hash": "aee8b7b246df8f9039afb4144a1f6fd8d2ca17a180786b69acc140d282b71a49"
   }
  }
 },
 "nbformat": 4,
 "nbformat_minor": 2
}
