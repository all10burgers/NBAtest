{
 "cells": [
  {
   "cell_type": "code",
   "execution_count": null,
   "metadata": {},
   "outputs": [],
   "source": [
    "def expected_value(pwin, odds):\n",
    "    ploss = 1 - pwin\n",
    "    mwin = payout(odds)\n",
    "    return round((pwin * mwin) - (ploss * 100), 2)\n",
    "\n",
    "def payout(odds):\n",
    "    if odds > 0:\n",
    "        return odds\n",
    "    else:\n",
    "        return (100 / (-1 * odds)) * 100\n",
    "    \n",
    "def american_to_decimal(american_odds):\n",
    "    if american_odds >= 100:\n",
    "        decimal_odds = (american_odds / 100)\n",
    "    else:\n",
    "        decimal_odds = (100 / abs(american_odds))\n",
    "    return round(decimal_odds, 2)\n",
    "\n",
    "def kelly_criterion(american_odds, model_prob):\n",
    "    decimal_odds = american_to_decimal(american_odds)\n",
    "    bankroll_fraction = round((100 * (decimal_odds * model_prob - (1 - model_prob))) / decimal_odds, 2)\n",
    "    return bankroll_fraction if bankroll_fraction > 0 else 0"
   ]
  }
 ],
 "metadata": {
  "language_info": {
   "name": "python"
  }
 },
 "nbformat": 4,
 "nbformat_minor": 2
}
